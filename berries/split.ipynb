{
 "cells": [
  {
   "cell_type": "code",
   "execution_count": 44,
   "metadata": {},
   "outputs": [],
   "source": [
    "from PIL import Image\n",
    "import matplotlib.pyplot as plt\n",
    "import os\n",
    "import numpy as np\n",
    "from tqdm import tqdm\n",
    "\n",
    "file_exts = ['.jpg', '.png', '.cr2']\n",
    "\n",
    "images_paths = [\n",
    "    # '/home/jack/Mounts/RemoteS3/kona_coffee_images/samples/all',\n",
    "    # '/home/jack/Mounts/RemoteS3/kona_coffee_images/raw/02-12-2023/raws',\n",
    "    '/home/jack/Mounts/RemoteS3/kona_coffee_images/raw/02-12-2023/phone'\n",
    "]\n",
    "\n",
    "fun_path = '/home/jack/Mounts/DiskOne/kona_coffee/fun'\n",
    "splits_path = '/home/jack/Mounts/DiskOne/kona_coffee/splits'\n",
    "box_size = 400\n",
    "\n",
    "os.makedirs(splits_path, exist_ok=True)"
   ]
  },
  {
   "cell_type": "code",
   "execution_count": 45,
   "metadata": {},
   "outputs": [],
   "source": [
    "def recursive_list(dir_path, any=False):\n",
    "    file_list = []\n",
    "    for root, directories, filenames in os.walk(dir_path):\n",
    "        for filename in filenames:\n",
    "            file_path = os.path.join(root, filename)\n",
    "            if os.path.isfile(file_path):\n",
    "                if any:\n",
    "                    file_list.append(file_path)\n",
    "                elif os.path.splitext(file_path)[1].lower() in file_exts:\n",
    "                    file_list.append(file_path)\n",
    "    return file_list"
   ]
  },
  {
   "cell_type": "code",
   "execution_count": 46,
   "metadata": {},
   "outputs": [
    {
     "name": "stderr",
     "output_type": "stream",
     "text": [
      "100%|██████████| 266/266 [19:49<00:00,  4.47s/it]\n"
     ]
    }
   ],
   "source": [
    "images = [image for path in images_paths for image in recursive_list(path)]\n",
    "fun_images = os.listdir(fun_path)\n",
    "\n",
    "for image_path in tqdm(images):\n",
    "    extention = os.path.splitext(image_path)[1].lower()\n",
    "    image_name = os.path.basename(image_path)\n",
    "    \n",
    "    if image_name in fun_images:\n",
    "        continue\n",
    "    \n",
    "    image = None\n",
    "    \n",
    "    if extention == '.jpg' or extention == '.png':\n",
    "        image = Image.open(image_path)  \n",
    "    \n",
    "    elif extention == '.cr2':\n",
    "        image = Image.open(image_path)\n",
    "        image = image.convert('RGB')\n",
    "\n",
    "    splits = []\n",
    "    width, height = image.size\n",
    "\n",
    "    for i in range(0, width, box_size):\n",
    "        for j in range(0, height, box_size):\n",
    "            box = (i, j, i+box_size, j+box_size)\n",
    "            new_name = os.path.splitext(image_name)[0] + '_' + str(i) + '_' + str(j) + '.png'\n",
    "            new_path = os.path.join(splits_path, new_name)\n",
    "\n",
    "            if os.path.exists(new_path):\n",
    "                continue\n",
    "\n",
    "            split = image.crop(box)            \n",
    "            split.save(new_path)"
   ]
  },
  {
   "cell_type": "code",
   "execution_count": 47,
   "metadata": {},
   "outputs": [
    {
     "data": {
      "text/plain": [
       "35370"
      ]
     },
     "execution_count": 47,
     "metadata": {},
     "output_type": "execute_result"
    }
   ],
   "source": [
    "len(os.listdir(splits_path))"
   ]
  }
 ],
 "metadata": {
  "kernelspec": {
   "display_name": "datadev-5ox7fytP",
   "language": "python",
   "name": "python3"
  },
  "language_info": {
   "codemirror_mode": {
    "name": "ipython",
    "version": 3
   },
   "file_extension": ".py",
   "mimetype": "text/x-python",
   "name": "python",
   "nbconvert_exporter": "python",
   "pygments_lexer": "ipython3",
   "version": "3.10.12"
  },
  "orig_nbformat": 4
 },
 "nbformat": 4,
 "nbformat_minor": 2
}
