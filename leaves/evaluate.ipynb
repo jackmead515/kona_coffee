{
 "cells": [
  {
   "cell_type": "code",
   "execution_count": null,
   "metadata": {},
   "outputs": [],
   "source": [
    "import cv2\n",
    "import numpy as np\n",
    "import pandas as pd\n",
    "from PIL import Image\n",
    "import os\n",
    "from tqdm import tqdm\n",
    "import os\n",
    "from matplotlib import pyplot as plt\n",
    "import seaborn as sns\n",
    "import tensorflow as tf\n",
    "from tensorflow.keras import mixed_precision\n",
    "import time\n",
    "\n",
    "#tf.config.optimizer.set_jit(True)\n",
    "\n",
    "#mixed_precision.set_global_policy('mixed_float16')\n",
    "\n",
    "os.chdir('/home/jack/Documents/kona_coffee')"
   ]
  },
  {
   "cell_type": "code",
   "execution_count": null,
   "metadata": {},
   "outputs": [],
   "source": [
    "path = '/home/jack/Mounts/RemoteS3/kona_coffee_images/leaves/03-12-2023'\n",
    "image_paths = os.listdir(path)\n",
    "\n",
    "random_images = np.random.choice(image_paths, 20)\n",
    "random_images = [Image.open(os.path.join(path, image_path)).convert('RGB') for image_path in random_images]"
   ]
  },
  {
   "cell_type": "code",
   "execution_count": null,
   "metadata": {},
   "outputs": [],
   "source": [
    "# load tflite model\n",
    "interpreter = tf.lite.Interpreter(model_path='rust_model.tflite')\n",
    "interpreter.allocate_tensors()\n",
    "\n",
    "def test_model(images):\n",
    "    \"\"\"\n",
    "    Predicts the rust probability for a batch of images.\n",
    "    \"\"\"\n",
    "    input_index = interpreter.get_input_details()[0][\"index\"]\n",
    "    output_index = interpreter.get_output_details()[0][\"index\"]\n",
    "    input_data = np.array(images, dtype=np.float32)\n",
    "    interpreter.set_tensor(input_index, input_data)\n",
    "    interpreter.invoke()\n",
    "    output_data = interpreter.get_tensor(output_index)\n",
    "    return output_data\n",
    "    #return model.predict(images, verbose=0)"
   ]
  }
 ],
 "metadata": {
  "language_info": {
   "name": "python"
  }
 },
 "nbformat": 4,
 "nbformat_minor": 2
}
