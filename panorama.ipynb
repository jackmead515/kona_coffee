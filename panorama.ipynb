{
 "cells": [
  {
   "cell_type": "code",
   "execution_count": 3,
   "metadata": {},
   "outputs": [],
   "source": [
    "import os\n",
    "import cv2\n",
    "import numpy as np\n",
    "import matplotlib.pyplot as plt\n",
    "from PIL import Image"
   ]
  },
  {
   "cell_type": "code",
   "execution_count": 10,
   "metadata": {},
   "outputs": [
    {
     "data": {
      "text/plain": [
       "True"
      ]
     },
     "execution_count": 10,
     "metadata": {},
     "output_type": "execute_result"
    }
   ],
   "source": [
    "folder_name = 'panorama_test/two/s2'\n",
    "\n",
    "images = [os.path.join(folder_name, file) for file in os.listdir(folder_name)]\n",
    "images.sort()\n",
    "\n",
    "loaded_images = []\n",
    "\n",
    "for image_path in images:\n",
    "    image = Image.open(image_path)\n",
    "    image = image.convert('RGB')\n",
    "    image = image.transpose(Image.FLIP_LEFT_RIGHT)\n",
    "    image = np.array(image)\n",
    "    loaded_images.append(image)\n",
    "\n",
    "sticher = cv2.Stitcher.create(cv2.STITCHER_SCANS)\n",
    "\n",
    "status, stitched = sticher.stitch(loaded_images)\n",
    "\n",
    "stitched = cv2.cvtColor(stitched, cv2.COLOR_BGR2RGB)\n",
    "\n",
    "cv2.imwrite(os.path.join(folder_name, 'panorama.png'), stitched)"
   ]
  }
 ],
 "metadata": {
  "kernelspec": {
   "display_name": "datadev-5ox7fytP",
   "language": "python",
   "name": "python3"
  },
  "language_info": {
   "codemirror_mode": {
    "name": "ipython",
    "version": 3
   },
   "file_extension": ".py",
   "mimetype": "text/x-python",
   "name": "python",
   "nbconvert_exporter": "python",
   "pygments_lexer": "ipython3",
   "version": "3.10.12"
  },
  "orig_nbformat": 4
 },
 "nbformat": 4,
 "nbformat_minor": 2
}
