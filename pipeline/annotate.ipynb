{
 "cells": [
  {
   "cell_type": "code",
   "execution_count": 1,
   "metadata": {},
   "outputs": [],
   "source": [
    "import cv2\n",
    "from PIL import Image\n",
    "import os\n",
    "import numpy as np\n",
    "import cv2\n",
    "import os\n",
    "import pandas as pd\n",
    "import requests\n",
    "import ast\n",
    "from hashlib import md5\n",
    "from matplotlib import pyplot as plt"
   ]
  },
  {
   "cell_type": "code",
   "execution_count": 2,
   "metadata": {},
   "outputs": [
    {
     "name": "stdout",
     "output_type": "stream",
     "text": [
      "2513\n"
     ]
    }
   ],
   "source": [
    "df = pd.read_csv('augmented.csv')\n",
    "\n",
    "old_df = None\n",
    "if os.path.exists('annotated.csv'):\n",
    "    old_df = pd.read_csv('annotated.csv')\n",
    "    \n",
    "if old_df is not None:\n",
    "    # remove already annotated images\n",
    "    df = df[~df['image'].isin(old_df['image'])]\n",
    "\n",
    "images = list(df['image'].values)\n",
    "\n",
    "print(len(images))\n",
    "\n",
    "np.random.shuffle(images)\n",
    "image_index = 0\n",
    "image = cv2.imread(images[image_index])\n",
    "data = []"
   ]
  },
  {
   "cell_type": "code",
   "execution_count": 3,
   "metadata": {},
   "outputs": [
    {
     "name": "stderr",
     "output_type": "stream",
     "text": [
      "qt.qpa.plugin: Could not find the Qt platform plugin \"wayland\" in \"/home/jack/.local/share/virtualenvs/datadev-5ox7fytP/lib/python3.10/site-packages/cv2/qt/plugins\"\n"
     ]
    }
   ],
   "source": [
    "def draw_circle(event, x, y, flags, param):\n",
    "    if event == cv2.EVENT_LBUTTONDBLCLK:\n",
    "        cv2.circle(image, (x,y), 10, (255,0,0), -1)\n",
    "        data.append([images[image_index], x, y])\n",
    "\n",
    "cv2.namedWindow('image')\n",
    "cv2.setMouseCallback('image', draw_circle)\n",
    "\n",
    "while True:\n",
    "    cv2.imshow(\"image\", image)\n",
    "    k = cv2.waitKey(20) & 0xFF\n",
    "\n",
    "    # if escape key, exit\n",
    "    if k == 27 or image_index >= len(images):\n",
    "        break\n",
    "\n",
    "    # if n key, go to next image\n",
    "    elif k == ord('n'):\n",
    "        image_index += 1\n",
    "        if image_index >= len(images):\n",
    "            break\n",
    "        image = cv2.imread(images[image_index])\n",
    "\n",
    "# close all open windows\n",
    "cv2.destroyAllWindows()"
   ]
  },
  {
   "cell_type": "code",
   "execution_count": 4,
   "metadata": {},
   "outputs": [
    {
     "data": {
      "text/html": [
       "<div>\n",
       "<style scoped>\n",
       "    .dataframe tbody tr th:only-of-type {\n",
       "        vertical-align: middle;\n",
       "    }\n",
       "\n",
       "    .dataframe tbody tr th {\n",
       "        vertical-align: top;\n",
       "    }\n",
       "\n",
       "    .dataframe thead th {\n",
       "        text-align: right;\n",
       "    }\n",
       "</style>\n",
       "<table border=\"1\" class=\"dataframe\">\n",
       "  <thead>\n",
       "    <tr style=\"text-align: right;\">\n",
       "      <th></th>\n",
       "      <th>image</th>\n",
       "      <th>x</th>\n",
       "      <th>y</th>\n",
       "    </tr>\n",
       "  </thead>\n",
       "  <tbody>\n",
       "    <tr>\n",
       "      <th>0</th>\n",
       "      <td>/home/jack/Mounts/DiskOne/kona_coffee/augmente...</td>\n",
       "      <td>133</td>\n",
       "      <td>229</td>\n",
       "    </tr>\n",
       "    <tr>\n",
       "      <th>1</th>\n",
       "      <td>/home/jack/Mounts/DiskOne/kona_coffee/augmente...</td>\n",
       "      <td>217</td>\n",
       "      <td>346</td>\n",
       "    </tr>\n",
       "    <tr>\n",
       "      <th>2</th>\n",
       "      <td>/home/jack/Mounts/DiskOne/kona_coffee/augmente...</td>\n",
       "      <td>249</td>\n",
       "      <td>314</td>\n",
       "    </tr>\n",
       "    <tr>\n",
       "      <th>3</th>\n",
       "      <td>/home/jack/Mounts/DiskOne/kona_coffee/augmente...</td>\n",
       "      <td>185</td>\n",
       "      <td>352</td>\n",
       "    </tr>\n",
       "    <tr>\n",
       "      <th>4</th>\n",
       "      <td>/home/jack/Mounts/DiskOne/kona_coffee/augmente...</td>\n",
       "      <td>71</td>\n",
       "      <td>279</td>\n",
       "    </tr>\n",
       "    <tr>\n",
       "      <th>...</th>\n",
       "      <td>...</td>\n",
       "      <td>...</td>\n",
       "      <td>...</td>\n",
       "    </tr>\n",
       "    <tr>\n",
       "      <th>2212</th>\n",
       "      <td>/home/jack/Mounts/DiskOne/kona_coffee/augmente...</td>\n",
       "      <td>61</td>\n",
       "      <td>394</td>\n",
       "    </tr>\n",
       "    <tr>\n",
       "      <th>2213</th>\n",
       "      <td>/home/jack/Mounts/DiskOne/kona_coffee/augmente...</td>\n",
       "      <td>56</td>\n",
       "      <td>319</td>\n",
       "    </tr>\n",
       "    <tr>\n",
       "      <th>2214</th>\n",
       "      <td>/home/jack/Mounts/DiskOne/kona_coffee/augmente...</td>\n",
       "      <td>35</td>\n",
       "      <td>378</td>\n",
       "    </tr>\n",
       "    <tr>\n",
       "      <th>2215</th>\n",
       "      <td>/home/jack/Mounts/DiskOne/kona_coffee/augmente...</td>\n",
       "      <td>364</td>\n",
       "      <td>104</td>\n",
       "    </tr>\n",
       "    <tr>\n",
       "      <th>2216</th>\n",
       "      <td>/home/jack/Mounts/DiskOne/kona_coffee/augmente...</td>\n",
       "      <td>390</td>\n",
       "      <td>79</td>\n",
       "    </tr>\n",
       "  </tbody>\n",
       "</table>\n",
       "<p>2217 rows × 3 columns</p>\n",
       "</div>"
      ],
      "text/plain": [
       "                                                  image    x    y\n",
       "0     /home/jack/Mounts/DiskOne/kona_coffee/augmente...  133  229\n",
       "1     /home/jack/Mounts/DiskOne/kona_coffee/augmente...  217  346\n",
       "2     /home/jack/Mounts/DiskOne/kona_coffee/augmente...  249  314\n",
       "3     /home/jack/Mounts/DiskOne/kona_coffee/augmente...  185  352\n",
       "4     /home/jack/Mounts/DiskOne/kona_coffee/augmente...   71  279\n",
       "...                                                 ...  ...  ...\n",
       "2212  /home/jack/Mounts/DiskOne/kona_coffee/augmente...   61  394\n",
       "2213  /home/jack/Mounts/DiskOne/kona_coffee/augmente...   56  319\n",
       "2214  /home/jack/Mounts/DiskOne/kona_coffee/augmente...   35  378\n",
       "2215  /home/jack/Mounts/DiskOne/kona_coffee/augmente...  364  104\n",
       "2216  /home/jack/Mounts/DiskOne/kona_coffee/augmente...  390   79\n",
       "\n",
       "[2217 rows x 3 columns]"
      ]
     },
     "execution_count": 4,
     "metadata": {},
     "output_type": "execute_result"
    }
   ],
   "source": [
    "df = pd.DataFrame(data, columns=['image', 'x', 'y'])\n",
    "\n",
    "if old_df is not None:\n",
    "    df = pd.concat([old_df, df], ignore_index=True)\n",
    "\n",
    "df.to_csv('annotated.csv', index=False)\n",
    "\n",
    "df"
   ]
  }
 ],
 "metadata": {
  "kernelspec": {
   "display_name": "datadev-5ox7fytP",
   "language": "python",
   "name": "python3"
  },
  "language_info": {
   "codemirror_mode": {
    "name": "ipython",
    "version": 3
   },
   "file_extension": ".py",
   "mimetype": "text/x-python",
   "name": "python",
   "nbconvert_exporter": "python",
   "pygments_lexer": "ipython3",
   "version": "3.10.12"
  },
  "orig_nbformat": 4
 },
 "nbformat": 4,
 "nbformat_minor": 2
}
