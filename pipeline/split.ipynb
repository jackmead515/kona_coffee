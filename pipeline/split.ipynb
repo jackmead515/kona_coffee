{
 "cells": [
  {
   "cell_type": "code",
   "execution_count": 3,
   "metadata": {},
   "outputs": [],
   "source": [
    "from PIL import Image\n",
    "import os\n",
    "from tqdm import tqdm\n",
    "\n",
    "file_exts = ['.JPG', '.png']\n",
    "\n",
    "images_path = '/home/jack/Mounts/RemoteS3/kona_coffee_images/samples/all'\n",
    "splits_path = '/home/jack/Mounts/DiskOne/kona_coffee/splits'\n",
    "box_size = 400\n",
    "\n",
    "os.makedirs(splits_path, exist_ok=True)"
   ]
  },
  {
   "cell_type": "code",
   "execution_count": 4,
   "metadata": {},
   "outputs": [
    {
     "name": "stderr",
     "output_type": "stream",
     "text": [
      "100%|██████████| 60/60 [00:53<00:00,  1.12it/s]\n"
     ]
    }
   ],
   "source": [
    "images = [os.path.join(images_path, f) for f in os.listdir(images_path) if os.path.splitext(f)[1] in file_exts]\n",
    "\n",
    "for image in tqdm(images):\n",
    "    image_data = Image.open(image)\n",
    "    image_name = os.path.basename(image)\n",
    "\n",
    "    splits = []\n",
    "    width, height = image_data.size\n",
    "\n",
    "    for i in range(0, width, box_size):\n",
    "        for j in range(0, height, box_size):\n",
    "            box = (i, j, i+box_size, j+box_size)\n",
    "            new_name = os.path.splitext(image_name)[0] + '_' + str(i) + '_' + str(j) + '.png'\n",
    "            new_path = os.path.join(splits_path, new_name)\n",
    "\n",
    "            if os.path.exists(new_path):\n",
    "                continue\n",
    "\n",
    "            split = image_data.crop(box)            \n",
    "            split.save(new_path)"
   ]
  }
 ],
 "metadata": {
  "kernelspec": {
   "display_name": "datadev-5ox7fytP",
   "language": "python",
   "name": "python3"
  },
  "language_info": {
   "codemirror_mode": {
    "name": "ipython",
    "version": 3
   },
   "file_extension": ".py",
   "mimetype": "text/x-python",
   "name": "python",
   "nbconvert_exporter": "python",
   "pygments_lexer": "ipython3",
   "version": "3.10.12"
  },
  "orig_nbformat": 4
 },
 "nbformat": 4,
 "nbformat_minor": 2
}
